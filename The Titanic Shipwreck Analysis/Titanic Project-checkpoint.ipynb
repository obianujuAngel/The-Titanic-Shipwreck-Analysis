{
 "cells": [
  {
   "cell_type": "code",
   "execution_count": 228,
   "id": "3ee27eed",
   "metadata": {},
   "outputs": [],
   "source": [
    "#### IMPORTING NECESSARY LIBRARIES\n",
    "\n",
    "\n",
    "import numpy as np\n",
    "import pandas as pd\n",
    "import matplotlib.pyplot as plt\n",
    "import seaborn as sb\n",
    "\n",
    "%matplotlib inline\n",
    "\n",
    "import warnings\n",
    "warnings.filterwarnings(\"ignore\")"
   ]
  },
  {
   "cell_type": "markdown",
   "id": "ac81017c",
   "metadata": {},
   "source": [
    "\n",
    "## EXPLORATORY DATA ANALYSIS (EDA)"
   ]
  },
  {
   "cell_type": "code",
   "execution_count": 229,
   "id": "54e08f82",
   "metadata": {},
   "outputs": [
    {
     "data": {
      "text/html": [
       "<div>\n",
       "<style scoped>\n",
       "    .dataframe tbody tr th:only-of-type {\n",
       "        vertical-align: middle;\n",
       "    }\n",
       "\n",
       "    .dataframe tbody tr th {\n",
       "        vertical-align: top;\n",
       "    }\n",
       "\n",
       "    .dataframe thead th {\n",
       "        text-align: right;\n",
       "    }\n",
       "</style>\n",
       "<table border=\"1\" class=\"dataframe\">\n",
       "  <thead>\n",
       "    <tr style=\"text-align: right;\">\n",
       "      <th></th>\n",
       "      <th>PassengerId</th>\n",
       "      <th>Survival status</th>\n",
       "      <th>Passengers class</th>\n",
       "      <th>Fullname</th>\n",
       "      <th>Gender</th>\n",
       "      <th>Age</th>\n",
       "      <th>SibSp</th>\n",
       "      <th>Parch</th>\n",
       "      <th>Ticket</th>\n",
       "      <th>Fare</th>\n",
       "      <th>Cabin</th>\n",
       "      <th>Embarked</th>\n",
       "    </tr>\n",
       "  </thead>\n",
       "  <tbody>\n",
       "    <tr>\n",
       "      <th>0</th>\n",
       "      <td>1</td>\n",
       "      <td>0</td>\n",
       "      <td>3</td>\n",
       "      <td>Braund, Mr. Owen Harris</td>\n",
       "      <td>male</td>\n",
       "      <td>22.0</td>\n",
       "      <td>1</td>\n",
       "      <td>0</td>\n",
       "      <td>A/5 21171</td>\n",
       "      <td>7.2500</td>\n",
       "      <td>NaN</td>\n",
       "      <td>S</td>\n",
       "    </tr>\n",
       "    <tr>\n",
       "      <th>1</th>\n",
       "      <td>2</td>\n",
       "      <td>1</td>\n",
       "      <td>1</td>\n",
       "      <td>Cumings, Mrs. John Bradley (Florence Briggs Th...</td>\n",
       "      <td>female</td>\n",
       "      <td>38.0</td>\n",
       "      <td>1</td>\n",
       "      <td>0</td>\n",
       "      <td>PC 17599</td>\n",
       "      <td>71.2833</td>\n",
       "      <td>C85</td>\n",
       "      <td>C</td>\n",
       "    </tr>\n",
       "    <tr>\n",
       "      <th>2</th>\n",
       "      <td>3</td>\n",
       "      <td>1</td>\n",
       "      <td>3</td>\n",
       "      <td>Heikkinen, Miss. Laina</td>\n",
       "      <td>female</td>\n",
       "      <td>26.0</td>\n",
       "      <td>0</td>\n",
       "      <td>0</td>\n",
       "      <td>STON/O2. 3101282</td>\n",
       "      <td>7.9250</td>\n",
       "      <td>NaN</td>\n",
       "      <td>S</td>\n",
       "    </tr>\n",
       "    <tr>\n",
       "      <th>3</th>\n",
       "      <td>4</td>\n",
       "      <td>1</td>\n",
       "      <td>1</td>\n",
       "      <td>Futrelle, Mrs. Jacques Heath (Lily May Peel)</td>\n",
       "      <td>female</td>\n",
       "      <td>35.0</td>\n",
       "      <td>1</td>\n",
       "      <td>0</td>\n",
       "      <td>113803</td>\n",
       "      <td>53.1000</td>\n",
       "      <td>C123</td>\n",
       "      <td>S</td>\n",
       "    </tr>\n",
       "    <tr>\n",
       "      <th>4</th>\n",
       "      <td>5</td>\n",
       "      <td>0</td>\n",
       "      <td>3</td>\n",
       "      <td>Allen, Mr. William Henry</td>\n",
       "      <td>male</td>\n",
       "      <td>35.0</td>\n",
       "      <td>0</td>\n",
       "      <td>0</td>\n",
       "      <td>373450</td>\n",
       "      <td>8.0500</td>\n",
       "      <td>NaN</td>\n",
       "      <td>S</td>\n",
       "    </tr>\n",
       "  </tbody>\n",
       "</table>\n",
       "</div>"
      ],
      "text/plain": [
       "   PassengerId  Survival status  Passengers class  \\\n",
       "0            1                0                 3   \n",
       "1            2                1                 1   \n",
       "2            3                1                 3   \n",
       "3            4                1                 1   \n",
       "4            5                0                 3   \n",
       "\n",
       "                                            Fullname  Gender   Age  SibSp  \\\n",
       "0                            Braund, Mr. Owen Harris    male  22.0      1   \n",
       "1  Cumings, Mrs. John Bradley (Florence Briggs Th...  female  38.0      1   \n",
       "2                             Heikkinen, Miss. Laina  female  26.0      0   \n",
       "3       Futrelle, Mrs. Jacques Heath (Lily May Peel)  female  35.0      1   \n",
       "4                           Allen, Mr. William Henry    male  35.0      0   \n",
       "\n",
       "   Parch            Ticket     Fare Cabin Embarked  \n",
       "0      0         A/5 21171   7.2500   NaN        S  \n",
       "1      0          PC 17599  71.2833   C85        C  \n",
       "2      0  STON/O2. 3101282   7.9250   NaN        S  \n",
       "3      0            113803  53.1000  C123        S  \n",
       "4      0            373450   8.0500   NaN        S  "
      ]
     },
     "execution_count": 229,
     "metadata": {},
     "output_type": "execute_result"
    }
   ],
   "source": [
    "\n",
    "#Renaming column headers \n",
    "\n",
    "#Reading in data\n",
    "df = pd.read_csv(r\"C:\\Users\\Eva\\Downloads\\Titanic-Dataset.csv\")\n",
    "\n",
    "#Renaming column headers\n",
    "df.rename(columns={'Survived':'Survival status'},inplace=True)\n",
    "df.rename(columns={'Pclass':'Passengers class'},inplace=True)\n",
    "df.rename(columns={'Sex':'Gender'},inplace=True)\n",
    "df.rename(columns={'Name':'Fullname'},inplace=True)\n",
    "\n",
    "#Calling out the data head\n",
    "df.head()\n",
    "\n"
   ]
  },
  {
   "cell_type": "code",
   "execution_count": 230,
   "id": "0e7750dd",
   "metadata": {},
   "outputs": [
    {
     "data": {
      "text/html": [
       "<div>\n",
       "<style scoped>\n",
       "    .dataframe tbody tr th:only-of-type {\n",
       "        vertical-align: middle;\n",
       "    }\n",
       "\n",
       "    .dataframe tbody tr th {\n",
       "        vertical-align: top;\n",
       "    }\n",
       "\n",
       "    .dataframe thead th {\n",
       "        text-align: right;\n",
       "    }\n",
       "</style>\n",
       "<table border=\"1\" class=\"dataframe\">\n",
       "  <thead>\n",
       "    <tr style=\"text-align: right;\">\n",
       "      <th></th>\n",
       "      <th>PassengerId</th>\n",
       "      <th>Survival status</th>\n",
       "      <th>Passengers class</th>\n",
       "      <th>Fullname</th>\n",
       "      <th>Gender</th>\n",
       "      <th>Age</th>\n",
       "      <th>SibSp</th>\n",
       "      <th>Parch</th>\n",
       "      <th>Ticket</th>\n",
       "      <th>Fare</th>\n",
       "      <th>Cabin</th>\n",
       "      <th>Embarked</th>\n",
       "    </tr>\n",
       "  </thead>\n",
       "  <tbody>\n",
       "    <tr>\n",
       "      <th>886</th>\n",
       "      <td>887</td>\n",
       "      <td>0</td>\n",
       "      <td>2</td>\n",
       "      <td>Montvila, Rev. Juozas</td>\n",
       "      <td>male</td>\n",
       "      <td>27.0</td>\n",
       "      <td>0</td>\n",
       "      <td>0</td>\n",
       "      <td>211536</td>\n",
       "      <td>13.00</td>\n",
       "      <td>NaN</td>\n",
       "      <td>S</td>\n",
       "    </tr>\n",
       "    <tr>\n",
       "      <th>887</th>\n",
       "      <td>888</td>\n",
       "      <td>1</td>\n",
       "      <td>1</td>\n",
       "      <td>Graham, Miss. Margaret Edith</td>\n",
       "      <td>female</td>\n",
       "      <td>19.0</td>\n",
       "      <td>0</td>\n",
       "      <td>0</td>\n",
       "      <td>112053</td>\n",
       "      <td>30.00</td>\n",
       "      <td>B42</td>\n",
       "      <td>S</td>\n",
       "    </tr>\n",
       "    <tr>\n",
       "      <th>888</th>\n",
       "      <td>889</td>\n",
       "      <td>0</td>\n",
       "      <td>3</td>\n",
       "      <td>Johnston, Miss. Catherine Helen \"Carrie\"</td>\n",
       "      <td>female</td>\n",
       "      <td>NaN</td>\n",
       "      <td>1</td>\n",
       "      <td>2</td>\n",
       "      <td>W./C. 6607</td>\n",
       "      <td>23.45</td>\n",
       "      <td>NaN</td>\n",
       "      <td>S</td>\n",
       "    </tr>\n",
       "    <tr>\n",
       "      <th>889</th>\n",
       "      <td>890</td>\n",
       "      <td>1</td>\n",
       "      <td>1</td>\n",
       "      <td>Behr, Mr. Karl Howell</td>\n",
       "      <td>male</td>\n",
       "      <td>26.0</td>\n",
       "      <td>0</td>\n",
       "      <td>0</td>\n",
       "      <td>111369</td>\n",
       "      <td>30.00</td>\n",
       "      <td>C148</td>\n",
       "      <td>C</td>\n",
       "    </tr>\n",
       "    <tr>\n",
       "      <th>890</th>\n",
       "      <td>891</td>\n",
       "      <td>0</td>\n",
       "      <td>3</td>\n",
       "      <td>Dooley, Mr. Patrick</td>\n",
       "      <td>male</td>\n",
       "      <td>32.0</td>\n",
       "      <td>0</td>\n",
       "      <td>0</td>\n",
       "      <td>370376</td>\n",
       "      <td>7.75</td>\n",
       "      <td>NaN</td>\n",
       "      <td>Q</td>\n",
       "    </tr>\n",
       "  </tbody>\n",
       "</table>\n",
       "</div>"
      ],
      "text/plain": [
       "     PassengerId  Survival status  Passengers class  \\\n",
       "886          887                0                 2   \n",
       "887          888                1                 1   \n",
       "888          889                0                 3   \n",
       "889          890                1                 1   \n",
       "890          891                0                 3   \n",
       "\n",
       "                                     Fullname  Gender   Age  SibSp  Parch  \\\n",
       "886                     Montvila, Rev. Juozas    male  27.0      0      0   \n",
       "887              Graham, Miss. Margaret Edith  female  19.0      0      0   \n",
       "888  Johnston, Miss. Catherine Helen \"Carrie\"  female   NaN      1      2   \n",
       "889                     Behr, Mr. Karl Howell    male  26.0      0      0   \n",
       "890                       Dooley, Mr. Patrick    male  32.0      0      0   \n",
       "\n",
       "         Ticket   Fare Cabin Embarked  \n",
       "886      211536  13.00   NaN        S  \n",
       "887      112053  30.00   B42        S  \n",
       "888  W./C. 6607  23.45   NaN        S  \n",
       "889      111369  30.00  C148        C  \n",
       "890      370376   7.75   NaN        Q  "
      ]
     },
     "execution_count": 230,
     "metadata": {},
     "output_type": "execute_result"
    }
   ],
   "source": [
    "#Calling out the data tail\n",
    "df.tail()\n"
   ]
  },
  {
   "cell_type": "code",
   "execution_count": 231,
   "id": "34985b80",
   "metadata": {},
   "outputs": [
    {
     "data": {
      "text/plain": [
       "(891, 12)"
      ]
     },
     "execution_count": 231,
     "metadata": {},
     "output_type": "execute_result"
    }
   ],
   "source": [
    "#Checking for the shape of our data\n",
    "\n",
    "df.shape"
   ]
  },
  {
   "cell_type": "code",
   "execution_count": 232,
   "id": "22f01878",
   "metadata": {},
   "outputs": [],
   "source": [
    "#Displaying all rows in the dataset\n",
    "\n",
    "pd.set_option('display.max.rows',None)\n"
   ]
  },
  {
   "cell_type": "code",
   "execution_count": 233,
   "id": "74f1d302",
   "metadata": {},
   "outputs": [],
   "source": [
    "#Displaying all columns in the data\n",
    "\n",
    "pd.set_option('display.max.columns',None)"
   ]
  },
  {
   "cell_type": "code",
   "execution_count": 234,
   "id": "0157bc02",
   "metadata": {},
   "outputs": [
    {
     "data": {
      "text/plain": [
       "PassengerId           0\n",
       "Survival status       0\n",
       "Passengers class      0\n",
       "Fullname              0\n",
       "Gender                0\n",
       "Age                 177\n",
       "SibSp                 0\n",
       "Parch                 0\n",
       "Ticket                0\n",
       "Fare                  0\n",
       "Cabin               687\n",
       "Embarked              2\n",
       "dtype: int64"
      ]
     },
     "execution_count": 234,
     "metadata": {},
     "output_type": "execute_result"
    }
   ],
   "source": [
    "#Checking for null values in the data\n",
    "\n",
    "df.isnull().sum()"
   ]
  },
  {
   "cell_type": "code",
   "execution_count": 235,
   "id": "a4f4e4b4",
   "metadata": {},
   "outputs": [
    {
     "data": {
      "text/plain": [
       "0"
      ]
     },
     "execution_count": 235,
     "metadata": {},
     "output_type": "execute_result"
    }
   ],
   "source": [
    "#Checking for duplicatedn values in the data.\n",
    "\n",
    "df.duplicated().sum()"
   ]
  },
  {
   "cell_type": "code",
   "execution_count": 236,
   "id": "bf2fd544",
   "metadata": {},
   "outputs": [
    {
     "data": {
      "text/html": [
       "<div>\n",
       "<style scoped>\n",
       "    .dataframe tbody tr th:only-of-type {\n",
       "        vertical-align: middle;\n",
       "    }\n",
       "\n",
       "    .dataframe tbody tr th {\n",
       "        vertical-align: top;\n",
       "    }\n",
       "\n",
       "    .dataframe thead th {\n",
       "        text-align: right;\n",
       "    }\n",
       "</style>\n",
       "<table border=\"1\" class=\"dataframe\">\n",
       "  <thead>\n",
       "    <tr style=\"text-align: right;\">\n",
       "      <th></th>\n",
       "      <th>PassengerId</th>\n",
       "      <th>Survival status</th>\n",
       "      <th>Passengers class</th>\n",
       "      <th>Age</th>\n",
       "      <th>SibSp</th>\n",
       "      <th>Parch</th>\n",
       "      <th>Fare</th>\n",
       "    </tr>\n",
       "  </thead>\n",
       "  <tbody>\n",
       "    <tr>\n",
       "      <th>count</th>\n",
       "      <td>891.000000</td>\n",
       "      <td>891.000000</td>\n",
       "      <td>891.000000</td>\n",
       "      <td>714.000000</td>\n",
       "      <td>891.000000</td>\n",
       "      <td>891.000000</td>\n",
       "      <td>891.000000</td>\n",
       "    </tr>\n",
       "    <tr>\n",
       "      <th>mean</th>\n",
       "      <td>446.000000</td>\n",
       "      <td>0.383838</td>\n",
       "      <td>2.308642</td>\n",
       "      <td>29.699118</td>\n",
       "      <td>0.523008</td>\n",
       "      <td>0.381594</td>\n",
       "      <td>32.204208</td>\n",
       "    </tr>\n",
       "    <tr>\n",
       "      <th>std</th>\n",
       "      <td>257.353842</td>\n",
       "      <td>0.486592</td>\n",
       "      <td>0.836071</td>\n",
       "      <td>14.526497</td>\n",
       "      <td>1.102743</td>\n",
       "      <td>0.806057</td>\n",
       "      <td>49.693429</td>\n",
       "    </tr>\n",
       "    <tr>\n",
       "      <th>min</th>\n",
       "      <td>1.000000</td>\n",
       "      <td>0.000000</td>\n",
       "      <td>1.000000</td>\n",
       "      <td>0.420000</td>\n",
       "      <td>0.000000</td>\n",
       "      <td>0.000000</td>\n",
       "      <td>0.000000</td>\n",
       "    </tr>\n",
       "    <tr>\n",
       "      <th>25%</th>\n",
       "      <td>223.500000</td>\n",
       "      <td>0.000000</td>\n",
       "      <td>2.000000</td>\n",
       "      <td>20.125000</td>\n",
       "      <td>0.000000</td>\n",
       "      <td>0.000000</td>\n",
       "      <td>7.910400</td>\n",
       "    </tr>\n",
       "    <tr>\n",
       "      <th>50%</th>\n",
       "      <td>446.000000</td>\n",
       "      <td>0.000000</td>\n",
       "      <td>3.000000</td>\n",
       "      <td>28.000000</td>\n",
       "      <td>0.000000</td>\n",
       "      <td>0.000000</td>\n",
       "      <td>14.454200</td>\n",
       "    </tr>\n",
       "    <tr>\n",
       "      <th>75%</th>\n",
       "      <td>668.500000</td>\n",
       "      <td>1.000000</td>\n",
       "      <td>3.000000</td>\n",
       "      <td>38.000000</td>\n",
       "      <td>1.000000</td>\n",
       "      <td>0.000000</td>\n",
       "      <td>31.000000</td>\n",
       "    </tr>\n",
       "    <tr>\n",
       "      <th>max</th>\n",
       "      <td>891.000000</td>\n",
       "      <td>1.000000</td>\n",
       "      <td>3.000000</td>\n",
       "      <td>80.000000</td>\n",
       "      <td>8.000000</td>\n",
       "      <td>6.000000</td>\n",
       "      <td>512.329200</td>\n",
       "    </tr>\n",
       "  </tbody>\n",
       "</table>\n",
       "</div>"
      ],
      "text/plain": [
       "       PassengerId  Survival status  Passengers class         Age       SibSp  \\\n",
       "count   891.000000       891.000000        891.000000  714.000000  891.000000   \n",
       "mean    446.000000         0.383838          2.308642   29.699118    0.523008   \n",
       "std     257.353842         0.486592          0.836071   14.526497    1.102743   \n",
       "min       1.000000         0.000000          1.000000    0.420000    0.000000   \n",
       "25%     223.500000         0.000000          2.000000   20.125000    0.000000   \n",
       "50%     446.000000         0.000000          3.000000   28.000000    0.000000   \n",
       "75%     668.500000         1.000000          3.000000   38.000000    1.000000   \n",
       "max     891.000000         1.000000          3.000000   80.000000    8.000000   \n",
       "\n",
       "            Parch        Fare  \n",
       "count  891.000000  891.000000  \n",
       "mean     0.381594   32.204208  \n",
       "std      0.806057   49.693429  \n",
       "min      0.000000    0.000000  \n",
       "25%      0.000000    7.910400  \n",
       "50%      0.000000   14.454200  \n",
       "75%      0.000000   31.000000  \n",
       "max      6.000000  512.329200  "
      ]
     },
     "execution_count": 236,
     "metadata": {},
     "output_type": "execute_result"
    }
   ],
   "source": [
    "#Checking out the summary statistics of the data.\n",
    "\n",
    "df.describe()"
   ]
  },
  {
   "cell_type": "code",
   "execution_count": 237,
   "id": "797407d7",
   "metadata": {},
   "outputs": [
    {
     "name": "stdout",
     "output_type": "stream",
     "text": [
      "<class 'pandas.core.frame.DataFrame'>\n",
      "RangeIndex: 891 entries, 0 to 890\n",
      "Data columns (total 12 columns):\n",
      " #   Column            Non-Null Count  Dtype  \n",
      "---  ------            --------------  -----  \n",
      " 0   PassengerId       891 non-null    int64  \n",
      " 1   Survival status   891 non-null    int64  \n",
      " 2   Passengers class  891 non-null    int64  \n",
      " 3   Fullname          891 non-null    object \n",
      " 4   Gender            891 non-null    object \n",
      " 5   Age               714 non-null    float64\n",
      " 6   SibSp             891 non-null    int64  \n",
      " 7   Parch             891 non-null    int64  \n",
      " 8   Ticket            891 non-null    object \n",
      " 9   Fare              891 non-null    float64\n",
      " 10  Cabin             204 non-null    object \n",
      " 11  Embarked          889 non-null    object \n",
      "dtypes: float64(2), int64(5), object(5)\n",
      "memory usage: 83.7+ KB\n"
     ]
    }
   ],
   "source": [
    "#Checking for necessary information of our data.\n",
    "\n",
    "df.info()"
   ]
  },
  {
   "cell_type": "code",
   "execution_count": 238,
   "id": "a12bf647",
   "metadata": {},
   "outputs": [],
   "source": [
    "#Filling the null values in the 'age'column with the median (50th) in the summary statistics\n",
    "df['Age'].fillna('28',inplace=True)\n",
    "\n",
    "#Filling the null values in the 'Embarked' column with the mode(most frequent)value.\n",
    "df['Embarked'].fillna('Southampton',inplace=True)\n",
    "\n"
   ]
  },
  {
   "cell_type": "code",
   "execution_count": 239,
   "id": "d6ced79a",
   "metadata": {},
   "outputs": [],
   "source": [
    "#Changing columns to its appropriate data types\n",
    "df['Survival status']=df['Survival status'].astype(str)\n",
    "df['Passengers class']=df['Passengers class'].astype(str)\n",
    "df['Age']=df['Age'].astype(int)"
   ]
  },
  {
   "cell_type": "code",
   "execution_count": 240,
   "id": "82306c3b",
   "metadata": {},
   "outputs": [
    {
     "name": "stdout",
     "output_type": "stream",
     "text": [
      "<class 'pandas.core.frame.DataFrame'>\n",
      "RangeIndex: 891 entries, 0 to 890\n",
      "Data columns (total 12 columns):\n",
      " #   Column            Non-Null Count  Dtype  \n",
      "---  ------            --------------  -----  \n",
      " 0   PassengerId       891 non-null    int64  \n",
      " 1   Survival status   891 non-null    object \n",
      " 2   Passengers class  891 non-null    object \n",
      " 3   Fullname          891 non-null    object \n",
      " 4   Gender            891 non-null    object \n",
      " 5   Age               891 non-null    int32  \n",
      " 6   SibSp             891 non-null    int64  \n",
      " 7   Parch             891 non-null    int64  \n",
      " 8   Ticket            891 non-null    object \n",
      " 9   Fare              891 non-null    float64\n",
      " 10  Cabin             204 non-null    object \n",
      " 11  Embarked          891 non-null    object \n",
      "dtypes: float64(1), int32(1), int64(3), object(7)\n",
      "memory usage: 80.2+ KB\n"
     ]
    }
   ],
   "source": [
    "#Checking for corrections in the data\n",
    "\n",
    "df.info()"
   ]
  },
  {
   "cell_type": "code",
   "execution_count": 241,
   "id": "dff9d4a3",
   "metadata": {},
   "outputs": [],
   "source": [
    "#Replacing values in certain columns with appropriate values that would aid effective analysis\n",
    "df['Passengers class'].replace('1','First class', inplace=True)\n",
    "df['Passengers class'].replace('2','Second class', inplace=True)\n",
    "df['Passengers class'].replace('3','Third class', inplace=True)\n",
    "\n",
    "df['Survival status'].replace('0','Dead',inplace=True)\n",
    "df['Survival status'].replace('1','Survived',inplace=True)\n",
    "\n",
    "df['Gender'].replace('male','Male',inplace=True)\n",
    "df['Gender'].replace('female','Female',inplace=True)\n",
    "\n",
    "df['Embarked'].replace('S','Southampton',inplace=True)\n",
    "df['Embarked'].replace('Q','Queenstown',inplace=True)\n",
    "df['Embarked'].replace('C','Cherbourg',inplace=True)\n"
   ]
  },
  {
   "cell_type": "code",
   "execution_count": 242,
   "id": "20da405e",
   "metadata": {},
   "outputs": [
    {
     "data": {
      "text/html": [
       "<div>\n",
       "<style scoped>\n",
       "    .dataframe tbody tr th:only-of-type {\n",
       "        vertical-align: middle;\n",
       "    }\n",
       "\n",
       "    .dataframe tbody tr th {\n",
       "        vertical-align: top;\n",
       "    }\n",
       "\n",
       "    .dataframe thead th {\n",
       "        text-align: right;\n",
       "    }\n",
       "</style>\n",
       "<table border=\"1\" class=\"dataframe\">\n",
       "  <thead>\n",
       "    <tr style=\"text-align: right;\">\n",
       "      <th></th>\n",
       "      <th>PassengerId</th>\n",
       "      <th>Survival status</th>\n",
       "      <th>Passengers class</th>\n",
       "      <th>Fullname</th>\n",
       "      <th>Gender</th>\n",
       "      <th>Age</th>\n",
       "      <th>SibSp</th>\n",
       "      <th>Parch</th>\n",
       "      <th>Ticket</th>\n",
       "      <th>Fare</th>\n",
       "      <th>Cabin</th>\n",
       "      <th>Embarked</th>\n",
       "      <th>Family members</th>\n",
       "    </tr>\n",
       "  </thead>\n",
       "  <tbody>\n",
       "    <tr>\n",
       "      <th>0</th>\n",
       "      <td>1</td>\n",
       "      <td>Dead</td>\n",
       "      <td>Third class</td>\n",
       "      <td>Braund, Mr. Owen Harris</td>\n",
       "      <td>Male</td>\n",
       "      <td>22</td>\n",
       "      <td>1</td>\n",
       "      <td>0</td>\n",
       "      <td>A/5 21171</td>\n",
       "      <td>7.2500</td>\n",
       "      <td>NaN</td>\n",
       "      <td>Southampton</td>\n",
       "      <td>1</td>\n",
       "    </tr>\n",
       "    <tr>\n",
       "      <th>1</th>\n",
       "      <td>2</td>\n",
       "      <td>Survived</td>\n",
       "      <td>First class</td>\n",
       "      <td>Cumings, Mrs. John Bradley (Florence Briggs Th...</td>\n",
       "      <td>Female</td>\n",
       "      <td>38</td>\n",
       "      <td>1</td>\n",
       "      <td>0</td>\n",
       "      <td>PC 17599</td>\n",
       "      <td>71.2833</td>\n",
       "      <td>C85</td>\n",
       "      <td>Cherbourg</td>\n",
       "      <td>1</td>\n",
       "    </tr>\n",
       "    <tr>\n",
       "      <th>2</th>\n",
       "      <td>3</td>\n",
       "      <td>Survived</td>\n",
       "      <td>Third class</td>\n",
       "      <td>Heikkinen, Miss. Laina</td>\n",
       "      <td>Female</td>\n",
       "      <td>26</td>\n",
       "      <td>0</td>\n",
       "      <td>0</td>\n",
       "      <td>STON/O2. 3101282</td>\n",
       "      <td>7.9250</td>\n",
       "      <td>NaN</td>\n",
       "      <td>Southampton</td>\n",
       "      <td>0</td>\n",
       "    </tr>\n",
       "    <tr>\n",
       "      <th>3</th>\n",
       "      <td>4</td>\n",
       "      <td>Survived</td>\n",
       "      <td>First class</td>\n",
       "      <td>Futrelle, Mrs. Jacques Heath (Lily May Peel)</td>\n",
       "      <td>Female</td>\n",
       "      <td>35</td>\n",
       "      <td>1</td>\n",
       "      <td>0</td>\n",
       "      <td>113803</td>\n",
       "      <td>53.1000</td>\n",
       "      <td>C123</td>\n",
       "      <td>Southampton</td>\n",
       "      <td>1</td>\n",
       "    </tr>\n",
       "    <tr>\n",
       "      <th>4</th>\n",
       "      <td>5</td>\n",
       "      <td>Dead</td>\n",
       "      <td>Third class</td>\n",
       "      <td>Allen, Mr. William Henry</td>\n",
       "      <td>Male</td>\n",
       "      <td>35</td>\n",
       "      <td>0</td>\n",
       "      <td>0</td>\n",
       "      <td>373450</td>\n",
       "      <td>8.0500</td>\n",
       "      <td>NaN</td>\n",
       "      <td>Southampton</td>\n",
       "      <td>0</td>\n",
       "    </tr>\n",
       "  </tbody>\n",
       "</table>\n",
       "</div>"
      ],
      "text/plain": [
       "   PassengerId Survival status Passengers class  \\\n",
       "0            1            Dead      Third class   \n",
       "1            2        Survived      First class   \n",
       "2            3        Survived      Third class   \n",
       "3            4        Survived      First class   \n",
       "4            5            Dead      Third class   \n",
       "\n",
       "                                            Fullname  Gender  Age  SibSp  \\\n",
       "0                            Braund, Mr. Owen Harris    Male   22      1   \n",
       "1  Cumings, Mrs. John Bradley (Florence Briggs Th...  Female   38      1   \n",
       "2                             Heikkinen, Miss. Laina  Female   26      0   \n",
       "3       Futrelle, Mrs. Jacques Heath (Lily May Peel)  Female   35      1   \n",
       "4                           Allen, Mr. William Henry    Male   35      0   \n",
       "\n",
       "   Parch            Ticket     Fare Cabin     Embarked  Family members  \n",
       "0      0         A/5 21171   7.2500   NaN  Southampton               1  \n",
       "1      0          PC 17599  71.2833   C85    Cherbourg               1  \n",
       "2      0  STON/O2. 3101282   7.9250   NaN  Southampton               0  \n",
       "3      0            113803  53.1000  C123  Southampton               1  \n",
       "4      0            373450   8.0500   NaN  Southampton               0  "
      ]
     },
     "execution_count": 242,
     "metadata": {},
     "output_type": "execute_result"
    }
   ],
   "source": [
    "#Joining two columns(Sibsp-Sib/spouse),(Parch-Parent/Children) \n",
    "df['Family members']=df['SibSp']+df['Parch']\n",
    "df.head()\n",
    "\n",
    "\n"
   ]
  },
  {
   "cell_type": "code",
   "execution_count": 243,
   "id": "1c65f6b5",
   "metadata": {},
   "outputs": [],
   "source": [
    "#Dropping redundant columns\n",
    "\n",
    "df.drop(columns=['PassengerId','Parch','Ticket','Cabin'],axis=1,inplace=True)\n"
   ]
  },
  {
   "cell_type": "code",
   "execution_count": 244,
   "id": "cb0b30b2",
   "metadata": {},
   "outputs": [],
   "source": [
    "#Dropping a redundant column\n",
    "\n",
    "df.drop('SibSp',axis=1,inplace=True)\n"
   ]
  },
  {
   "cell_type": "code",
   "execution_count": 245,
   "id": "17d828eb",
   "metadata": {
    "scrolled": true
   },
   "outputs": [
    {
     "data": {
      "text/plain": [
       "Survival status     0\n",
       "Passengers class    0\n",
       "Fullname            0\n",
       "Gender              0\n",
       "Age                 0\n",
       "Fare                0\n",
       "Embarked            0\n",
       "Family members      0\n",
       "dtype: int64"
      ]
     },
     "execution_count": 245,
     "metadata": {},
     "output_type": "execute_result"
    }
   ],
   "source": [
    "#Checking for null values after making corrections .\n",
    "\n",
    "df.isnull().sum()"
   ]
  },
  {
   "cell_type": "code",
   "execution_count": 246,
   "id": "e6127c7a",
   "metadata": {},
   "outputs": [],
   "source": [
    "#Dropping a redundant column\n",
    "\n",
    "df.drop('Fullname',axis=1,inplace=True)"
   ]
  },
  {
   "cell_type": "code",
   "execution_count": 247,
   "id": "364b208a",
   "metadata": {},
   "outputs": [],
   "source": [
    "#Creating an (Age_category)column through a function statement to aid analysis\n",
    "def Age_category(age):\n",
    "    if age<18:\n",
    "        return'Children'\n",
    "    elif age<30:\n",
    "        return 'Youth'\n",
    "    elif age<60:\n",
    "        return 'Adult'\n",
    "    else:\n",
    "        return 'Old'\n",
    "    \n",
    "    "
   ]
  },
  {
   "cell_type": "code",
   "execution_count": 248,
   "id": "63519b7c",
   "metadata": {},
   "outputs": [],
   "source": [
    "#Applying the function statement the data.\n",
    "\n",
    "df['Age_category']=df['Age'].apply(Age_category)"
   ]
  },
  {
   "cell_type": "code",
   "execution_count": 249,
   "id": "2a3d8981",
   "metadata": {},
   "outputs": [
    {
     "data": {
      "text/html": [
       "<div>\n",
       "<style scoped>\n",
       "    .dataframe tbody tr th:only-of-type {\n",
       "        vertical-align: middle;\n",
       "    }\n",
       "\n",
       "    .dataframe tbody tr th {\n",
       "        vertical-align: top;\n",
       "    }\n",
       "\n",
       "    .dataframe thead th {\n",
       "        text-align: right;\n",
       "    }\n",
       "</style>\n",
       "<table border=\"1\" class=\"dataframe\">\n",
       "  <thead>\n",
       "    <tr style=\"text-align: right;\">\n",
       "      <th></th>\n",
       "      <th>Survival status</th>\n",
       "      <th>Passengers class</th>\n",
       "      <th>Gender</th>\n",
       "      <th>Age</th>\n",
       "      <th>Fare</th>\n",
       "      <th>Embarked</th>\n",
       "      <th>Family members</th>\n",
       "      <th>Age_category</th>\n",
       "    </tr>\n",
       "  </thead>\n",
       "  <tbody>\n",
       "    <tr>\n",
       "      <th>0</th>\n",
       "      <td>Dead</td>\n",
       "      <td>Third class</td>\n",
       "      <td>Male</td>\n",
       "      <td>22</td>\n",
       "      <td>7.2500</td>\n",
       "      <td>Southampton</td>\n",
       "      <td>1</td>\n",
       "      <td>Youth</td>\n",
       "    </tr>\n",
       "    <tr>\n",
       "      <th>1</th>\n",
       "      <td>Survived</td>\n",
       "      <td>First class</td>\n",
       "      <td>Female</td>\n",
       "      <td>38</td>\n",
       "      <td>71.2833</td>\n",
       "      <td>Cherbourg</td>\n",
       "      <td>1</td>\n",
       "      <td>Adult</td>\n",
       "    </tr>\n",
       "    <tr>\n",
       "      <th>2</th>\n",
       "      <td>Survived</td>\n",
       "      <td>Third class</td>\n",
       "      <td>Female</td>\n",
       "      <td>26</td>\n",
       "      <td>7.9250</td>\n",
       "      <td>Southampton</td>\n",
       "      <td>0</td>\n",
       "      <td>Youth</td>\n",
       "    </tr>\n",
       "    <tr>\n",
       "      <th>3</th>\n",
       "      <td>Survived</td>\n",
       "      <td>First class</td>\n",
       "      <td>Female</td>\n",
       "      <td>35</td>\n",
       "      <td>53.1000</td>\n",
       "      <td>Southampton</td>\n",
       "      <td>1</td>\n",
       "      <td>Adult</td>\n",
       "    </tr>\n",
       "    <tr>\n",
       "      <th>4</th>\n",
       "      <td>Dead</td>\n",
       "      <td>Third class</td>\n",
       "      <td>Male</td>\n",
       "      <td>35</td>\n",
       "      <td>8.0500</td>\n",
       "      <td>Southampton</td>\n",
       "      <td>0</td>\n",
       "      <td>Adult</td>\n",
       "    </tr>\n",
       "  </tbody>\n",
       "</table>\n",
       "</div>"
      ],
      "text/plain": [
       "  Survival status Passengers class  Gender  Age     Fare     Embarked  \\\n",
       "0            Dead      Third class    Male   22   7.2500  Southampton   \n",
       "1        Survived      First class  Female   38  71.2833    Cherbourg   \n",
       "2        Survived      Third class  Female   26   7.9250  Southampton   \n",
       "3        Survived      First class  Female   35  53.1000  Southampton   \n",
       "4            Dead      Third class    Male   35   8.0500  Southampton   \n",
       "\n",
       "   Family members Age_category  \n",
       "0               1        Youth  \n",
       "1               1        Adult  \n",
       "2               0        Youth  \n",
       "3               1        Adult  \n",
       "4               0        Adult  "
      ]
     },
     "execution_count": 249,
     "metadata": {},
     "output_type": "execute_result"
    }
   ],
   "source": [
    "#Checking data to view the application of the function statement and the completely cleaned data.\n",
    "df.head()"
   ]
  },
  {
   "cell_type": "code",
   "execution_count": 283,
   "id": "2ad577da",
   "metadata": {},
   "outputs": [
    {
     "data": {
      "text/html": [
       "<div>\n",
       "<style scoped>\n",
       "    .dataframe tbody tr th:only-of-type {\n",
       "        vertical-align: middle;\n",
       "    }\n",
       "\n",
       "    .dataframe tbody tr th {\n",
       "        vertical-align: top;\n",
       "    }\n",
       "\n",
       "    .dataframe thead th {\n",
       "        text-align: right;\n",
       "    }\n",
       "</style>\n",
       "<table border=\"1\" class=\"dataframe\">\n",
       "  <thead>\n",
       "    <tr style=\"text-align: right;\">\n",
       "      <th></th>\n",
       "      <th>Survival status</th>\n",
       "      <th>Passengers class</th>\n",
       "      <th>Gender</th>\n",
       "      <th>Embarked</th>\n",
       "      <th>Age_category</th>\n",
       "    </tr>\n",
       "  </thead>\n",
       "  <tbody>\n",
       "    <tr>\n",
       "      <th>0</th>\n",
       "      <td>Dead</td>\n",
       "      <td>Third class</td>\n",
       "      <td>Male</td>\n",
       "      <td>Southampton</td>\n",
       "      <td>Youth</td>\n",
       "    </tr>\n",
       "    <tr>\n",
       "      <th>1</th>\n",
       "      <td>Survived</td>\n",
       "      <td>First class</td>\n",
       "      <td>Female</td>\n",
       "      <td>Cherbourg</td>\n",
       "      <td>Adult</td>\n",
       "    </tr>\n",
       "    <tr>\n",
       "      <th>2</th>\n",
       "      <td>Survived</td>\n",
       "      <td>Third class</td>\n",
       "      <td>Female</td>\n",
       "      <td>Southampton</td>\n",
       "      <td>Youth</td>\n",
       "    </tr>\n",
       "    <tr>\n",
       "      <th>3</th>\n",
       "      <td>Survived</td>\n",
       "      <td>First class</td>\n",
       "      <td>Female</td>\n",
       "      <td>Southampton</td>\n",
       "      <td>Adult</td>\n",
       "    </tr>\n",
       "    <tr>\n",
       "      <th>4</th>\n",
       "      <td>Dead</td>\n",
       "      <td>Third class</td>\n",
       "      <td>Male</td>\n",
       "      <td>Southampton</td>\n",
       "      <td>Adult</td>\n",
       "    </tr>\n",
       "  </tbody>\n",
       "</table>\n",
       "</div>"
      ],
      "text/plain": [
       "  Survival status Passengers class  Gender     Embarked Age_category\n",
       "0            Dead      Third class    Male  Southampton        Youth\n",
       "1        Survived      First class  Female    Cherbourg        Adult\n",
       "2        Survived      Third class  Female  Southampton        Youth\n",
       "3        Survived      First class  Female  Southampton        Adult\n",
       "4            Dead      Third class    Male  Southampton        Adult"
      ]
     },
     "execution_count": 283,
     "metadata": {},
     "output_type": "execute_result"
    }
   ],
   "source": [
    "#Distinguishing categorical features as (cat_ features)\n",
    "\n",
    "cat_features=df.select_dtypes(include=['object','category'])\n",
    "cat_features.head()"
   ]
  },
  {
   "cell_type": "markdown",
   "id": "fd20e12e",
   "metadata": {},
   "source": [
    "## DATA VISUALIZATION"
   ]
  },
  {
   "cell_type": "code",
   "execution_count": 251,
   "id": "1d7634ea",
   "metadata": {
    "scrolled": false
   },
   "outputs": [
    {
     "data": {
      "image/png": "[encoded data removed]",
      "text/plain": [
       "<Figure size 640x480 with 1 Axes>"
      ]
     },
     "metadata": {},
     "output_type": "display_data"
    },
    {
     "data": {
      "image/png": "[encoded data removed]",
      "text/plain": [
       "<Figure size 640x480 with 1 Axes>"
      ]
     },
     "metadata": {},
     "output_type": "display_data"
    },
    {
     "data": {
      "image/png": "[encoded data removed]",
      "text/plain": [
       "<Figure size 640x480 with 1 Axes>"
      ]
     },
     "metadata": {},
     "output_type": "display_data"
    },
    {
     "data": {
      "image/png": "[encoded data removed]",
      "text/plain": [
       "<Figure size 640x480 with 1 Axes>"
      ]
     },
     "metadata": {},
     "output_type": "display_data"
    },
    {
     "data": {
      "image/png": "[encoded data removed]",
      "text/plain": [
       "<Figure size 640x480 with 1 Axes>"
      ]
     },
     "metadata": {},
     "output_type": "display_data"
    }
   ],
   "source": [
    "#Looping through the categorical features in the data to create a count plot.\n",
    "#This loop gives a distinct count of values in each categorical feature column.\n",
    "palette= sb.color_palette(['skyblue', 'deepskyblue','darkblue','steelblue'])\n",
    "for col in cat_features:\n",
    "    sb.countplot(x=col,data=df,palette=palette)\n",
    "    plt.title(f'Count plot of {col}')\n",
    "    plt.show()\n",
    "\n"
   ]
  },
  {
   "cell_type": "code",
   "execution_count": 252,
   "id": "c6c87aa3",
   "metadata": {
    "scrolled": true
   },
   "outputs": [
    {
     "data": {
      "image/png": "[encoded data removed]",
      "text/plain": [
       "<Figure size 640x480 with 1 Axes>"
      ]
     },
     "metadata": {},
     "output_type": "display_data"
    }
   ],
   "source": [
    "sb.boxplot(df['Fare'],palette=palette)\n",
    "plt.title('Boxplot for Fare')\n",
    "plt.show()"
   ]
  },
  {
   "cell_type": "markdown",
   "id": "a559d0b9",
   "metadata": {},
   "source": [
    "The boxplot present the average fare paid by passengers , the plot also indicate outliers."
   ]
  },
  {
   "cell_type": "code",
   "execution_count": 253,
   "id": "689b3eb5",
   "metadata": {
    "scrolled": false
   },
   "outputs": [
    {
     "data": {
      "image/png": "[encoded data removed]",
      "text/plain": [
       "<Figure size 640x480 with 1 Axes>"
      ]
     },
     "metadata": {},
     "output_type": "display_data"
    }
   ],
   "source": [
    "sb.distplot(df['Age'])\n",
    "plt.title('Death rate by Age distribution')\n",
    "plt.show()"
   ]
  },
  {
   "cell_type": "markdown",
   "id": "2e58a05e",
   "metadata": {},
   "source": [
    "This distribution plot shows the age of majority of passengers who boarded the ship . This plot reveals that most passengers who boarded the ship were within the age of 22 to 29 years old, which explains the massive number of youth in the ship."
   ]
  },
  {
   "cell_type": "code",
   "execution_count": 254,
   "id": "4d350614",
   "metadata": {},
   "outputs": [
    {
     "data": {
      "text/plain": [
       "Gender\n",
       "Female    13966.6628\n",
       "Male      14727.2865\n",
       "Name: Fare, dtype: float64"
      ]
     },
     "execution_count": 254,
     "metadata": {},
     "output_type": "execute_result"
    }
   ],
   "source": [
    "Gender_by_fare=df.groupby('Gender')['Fare'].sum()\n",
    "Gender_by_fare"
   ]
  },
  {
   "cell_type": "code",
   "execution_count": 255,
   "id": "fe425789",
   "metadata": {
    "scrolled": true
   },
   "outputs": [
    {
     "data": {
      "image/png": "[encoded data removed]",
      "text/plain": [
       "<Figure size 600x600 with 1 Axes>"
      ]
     },
     "metadata": {},
     "output_type": "display_data"
    }
   ],
   "source": [
    "palette=('skyblue', 'darkblue')\n",
    "Gender=['Female','Male']\n",
    "value=[13966.6628,14727.2865]\n",
    "plt.figure(figsize=(6,6))\n",
    "plt.pie(value,labels=Gender,autopct='%1.0f%%',colors=palette)\n",
    "plt.title('Gender')\n",
    "\n",
    "plt.show()"
   ]
  },
  {
   "cell_type": "markdown",
   "id": "7fdff46a",
   "metadata": {},
   "source": [
    "This pie chart displays the percentage of fare paid by the distinct gender in the data."
   ]
  },
  {
   "cell_type": "code",
   "execution_count": 256,
   "id": "ffbc4319",
   "metadata": {},
   "outputs": [
    {
     "data": {
      "text/plain": [
       "Passengers class\n",
       "First class     18177.4125\n",
       "Second class     3801.8417\n",
       "Third class      6714.6951\n",
       "Name: Fare, dtype: float64"
      ]
     },
     "execution_count": 256,
     "metadata": {},
     "output_type": "execute_result"
    }
   ],
   "source": [
    "Class_by_fare=df.groupby('Passengers class')['Fare'].sum()\n",
    "Class_by_fare"
   ]
  },
  {
   "cell_type": "code",
   "execution_count": 257,
   "id": "845cca21",
   "metadata": {
    "scrolled": true
   },
   "outputs": [
    {
     "data": {
      "text/plain": [
       "Text(0.5, 1.0, 'Passenger class by fare')"
      ]
     },
     "execution_count": 257,
     "metadata": {},
     "output_type": "execute_result"
    },
    {
     "data": {
      "image/png": "[encoded data removed]",
      "text/plain": [
       "<Figure size 600x600 with 1 Axes>"
      ]
     },
     "metadata": {},
     "output_type": "display_data"
    }
   ],
   "source": [
    "palette=('skyblue','deepskyblue','darkblue')\n",
    "Passengers_class=['First class','Second class','Third class']\n",
    "value=[18177.4125,3801.8417,6714.6951]\n",
    "plt.figure(figsize=(6,6))\n",
    "plt.pie(value,labels=Passengers_class,autopct='%1.1f%%',colors=palette)\n",
    "plt.title('Passenger class by fare')"
   ]
  },
  {
   "cell_type": "markdown",
   "id": "3b59e751",
   "metadata": {},
   "source": [
    "This chart conveys the percentage of fare paid by the three classes of passengers that boarded the ship."
   ]
  },
  {
   "cell_type": "code",
   "execution_count": 258,
   "id": "c0c34d15",
   "metadata": {},
   "outputs": [
    {
     "data": {
      "text/plain": [
       "Embarked\n",
       "Cherbourg      10072.2962\n",
       "Queenstown      1022.2543\n",
       "Southampton    17599.3988\n",
       "Name: Fare, dtype: float64"
      ]
     },
     "execution_count": 258,
     "metadata": {},
     "output_type": "execute_result"
    }
   ],
   "source": [
    "Embarked_by_fare=df.groupby('Embarked')['Fare'].sum()\n",
    "Embarked_by_fare"
   ]
  },
  {
   "cell_type": "code",
   "execution_count": 259,
   "id": "d1d9fa5b",
   "metadata": {
    "scrolled": true
   },
   "outputs": [
    {
     "data": {
      "text/plain": [
       "Text(0.5, 1.0, 'Embarked by fare')"
      ]
     },
     "execution_count": 259,
     "metadata": {},
     "output_type": "execute_result"
    },
    {
     "data": {
      "image/png": "[encoded data removed]",
      "text/plain": [
       "<Figure size 600x600 with 1 Axes>"
      ]
     },
     "metadata": {},
     "output_type": "display_data"
    }
   ],
   "source": [
    "palette=('skyblue','deepskyblue','darkblue')\n",
    "Embarked=['Cherbourg','Queenstown','Southampton']\n",
    "value=[10072.2962, 1022.2543,17599.3988]\n",
    "plt.figure(figsize=(6,6))\n",
    "plt.pie(value,labels=Embarked,autopct='%1.1f%%',colors=palette)\n",
    "plt.title('Embarked by fare')"
   ]
  },
  {
   "cell_type": "markdown",
   "id": "dba2ef64",
   "metadata": {},
   "source": [
    "This chart conveys the percentage of fare paid by passengers who embarked from different port(Southampton,Cherbourg,Queenstown)."
   ]
  },
  {
   "cell_type": "code",
   "execution_count": 260,
   "id": "ca7b4643",
   "metadata": {},
   "outputs": [
    {
     "data": {
      "image/png": "[encoded data removed]",
      "text/plain": [
       "<Figure size 640x480 with 1 Axes>"
      ]
     },
     "metadata": {},
     "output_type": "display_data"
    }
   ],
   "source": [
    "#Design bars with colors of your choice\n",
    "palette = ('skyblue','limegreen','darkblue')\n",
    "\n",
    "# Create the countplot\n",
    "sb.countplot(x=df['Survival status'], hue=df['Passengers class'], palette=palette)\n",
    "\n",
    "# Add title\n",
    "plt.title('Survival status by Passenger class')\n",
    "\n",
    "# Show the plot\n",
    "plt.show()"
   ]
  },
  {
   "cell_type": "markdown",
   "id": "b5d8e2f1",
   "metadata": {},
   "source": [
    "This chart conveys the survival status of the three classes(first,second,third) of passengers.\n",
    "\n",
    "\n"
   ]
  },
  {
   "cell_type": "markdown",
   "id": "c1624e3b",
   "metadata": {},
   "source": [
    "-According this chart ,there is a high death rate in the thrid class.\n",
    "-High rate of survival in the first class.\n",
    "-The second class has virtually an equal record of both dead and survived passengers."
   ]
  },
  {
   "cell_type": "code",
   "execution_count": 261,
   "id": "7e385ad4",
   "metadata": {
    "scrolled": true
   },
   "outputs": [
    {
     "data": {
      "image/png": "[encoded data removed]",
      "text/plain": [
       "<Figure size 640x480 with 1 Axes>"
      ]
     },
     "metadata": {},
     "output_type": "display_data"
    }
   ],
   "source": [
    "sb.countplot(x=df['Survival status'],hue=df['Gender'],palette=palette)\n",
    "plt.title('Survival status by Gender')\n",
    "plt.show()"
   ]
  },
  {
   "cell_type": "markdown",
   "id": "f9692d2e",
   "metadata": {},
   "source": [
    "This chart displays the survival status of distinct gender who boarded the ship."
   ]
  },
  {
   "cell_type": "markdown",
   "id": "ddcace4b",
   "metadata": {},
   "source": [
    "-In relation to this chart, it can be denoted that the death rate amongst the male is quite large.\n",
    "-This chart shows that preference was given to the female gender which resulted to high survival rate.\n",
    "\n"
   ]
  },
  {
   "cell_type": "code",
   "execution_count": 262,
   "id": "323567f0",
   "metadata": {
    "scrolled": false
   },
   "outputs": [
    {
     "data": {
      "image/png": "[encoded data removed]",
      "text/plain": [
       "<Figure size 640x480 with 1 Axes>"
      ]
     },
     "metadata": {},
     "output_type": "display_data"
    }
   ],
   "source": [
    "sb.countplot(x=df['Survival status'],hue=df['Embarked'] ,palette=palette)\n",
    "plt.title('Survival status by Embarked')\n",
    "plt.show()"
   ]
  },
  {
   "cell_type": "markdown",
   "id": "5e4b8439",
   "metadata": {},
   "source": [
    "This chart displays the survival status of distinct gender who boarded the ship."
   ]
  },
  {
   "cell_type": "markdown",
   "id": "b88fda09",
   "metadata": {},
   "source": [
    "-This illustration above communicates the high survival and death rate of passengers who embarked from Southampton which is the first port where the ship embarked .The count plot that displays the port where passengers embarked ,registers a massive number of passenger from Southampton.\n",
    "-The chart also conveys a virtually equal rate of death and survival amongst passengers who embarked from Cherbourg.\n",
    "-The low death and survival rate amongst Queenstown passengers can be accounted for by the few number of passengers who boarded the ship."
   ]
  },
  {
   "cell_type": "code",
   "execution_count": 263,
   "id": "0fdf334f",
   "metadata": {},
   "outputs": [
    {
     "data": {
      "image/png": "[encoded data removed]",
      "text/plain": [
       "<Figure size 640x480 with 1 Axes>"
      ]
     },
     "metadata": {},
     "output_type": "display_data"
    }
   ],
   "source": [
    "custom_palette=('skyblue','limegreen','darkblue','olive')\n",
    "sb.countplot(x=df['Survival status'],hue=df['Age_category'] ,palette=custom_palette)\n",
    "plt.title('Survival status by Age_category')\n",
    "plt.show()"
   ]
  },
  {
   "cell_type": "markdown",
   "id": "a63495b8",
   "metadata": {},
   "source": [
    "This chart represent the survival status of passengers who embarked from the three different ports(Southampton,Cherbourg,Queenstown)."
   ]
  },
  {
   "cell_type": "markdown",
   "id": "b0acad42",
   "metadata": {},
   "source": [
    "-This chart reveals the highest record of death and survival rate in the youth category amongst all age category.\n",
    "-This record followed closely by the Adult category.\n",
    "-The children and old people were given special treatment due to their age, which explains the significant decrease in death record.\n",
    "-Despite the low record of death in both the children and old people , there is a lower record of death amongst the children .\n",
    "-This accounts for the fact that the children were a priority before any other age group."
   ]
  },
  {
   "cell_type": "code",
   "execution_count": 264,
   "id": "6282ad3a",
   "metadata": {},
   "outputs": [
    {
     "data": {
      "text/html": [
       "<div>\n",
       "<style scoped>\n",
       "    .dataframe tbody tr th:only-of-type {\n",
       "        vertical-align: middle;\n",
       "    }\n",
       "\n",
       "    .dataframe tbody tr th {\n",
       "        vertical-align: top;\n",
       "    }\n",
       "\n",
       "    .dataframe thead th {\n",
       "        text-align: right;\n",
       "    }\n",
       "</style>\n",
       "<table border=\"1\" class=\"dataframe\">\n",
       "  <thead>\n",
       "    <tr style=\"text-align: right;\">\n",
       "      <th></th>\n",
       "      <th>Age</th>\n",
       "      <th>Fare</th>\n",
       "    </tr>\n",
       "  </thead>\n",
       "  <tbody>\n",
       "    <tr>\n",
       "      <th>Age</th>\n",
       "      <td>1.000000</td>\n",
       "      <td>0.096838</td>\n",
       "    </tr>\n",
       "    <tr>\n",
       "      <th>Fare</th>\n",
       "      <td>0.096838</td>\n",
       "      <td>1.000000</td>\n",
       "    </tr>\n",
       "  </tbody>\n",
       "</table>\n",
       "</div>"
      ],
      "text/plain": [
       "           Age      Fare\n",
       "Age   1.000000  0.096838\n",
       "Fare  0.096838  1.000000"
      ]
     },
     "execution_count": 264,
     "metadata": {},
     "output_type": "execute_result"
    },
    {
     "data": {
      "image/png": "[encoded data removed]",
      "text/plain": [
       "<Figure size 400x400 with 2 Axes>"
      ]
     },
     "metadata": {},
     "output_type": "display_data"
    }
   ],
   "source": [
    "# Correlation of the feature\n",
    "corr = df[['Age','Fare']].corr()\n",
    "\n",
    "plt.figure(figsize=(4, 4))\n",
    "ax = sb.heatmap(corr, vmin=-1, vmax=1, center=0, square=True, annot = True)\n",
    "\n",
    "ax.set_xticklabels(ax.get_xticklabels(), rotation=45,horizontalalignment='right')\n",
    "\n",
    "corr"
   ]
  },
  {
   "cell_type": "markdown",
   "id": "a6b91414",
   "metadata": {},
   "source": [
    "The heatmap show the correlation or relationship between both variables.\n",
    "The heatmap displays a positive relationship between these variables."
   ]
  },
  {
   "cell_type": "markdown",
   "id": "025eb1f0",
   "metadata": {},
   "source": [
    "### CONCLUSION\n",
    "The sole aim and objective of this analysis is to detect the factors that influenced survival rate of the passengers who boarded the Titanic\n",
    "- Considering the unfair distribution amongst the different passenger class, it can be deduced that the data captures a substantial amont of death in the \"Third class\" which is due to preferential treatment giving to the first and second class.\n",
    "\n",
    "- Assessing the fare percentage paid by each class to board the ship, the fact that the first class passengers paid double the price for the fare contributes to the preferential treatment served to the 'First class passengers'.\n",
    "\n",
    "- It is also pertinent to state that the \"maternal and child welfare policy\" was definitely not neglected ,as care and safety was administered to women and children during the titanic tragedy,which left a tremendous and significant growth in the death rate of the male(youth) passengers.\n"
   ]
  },
  {
   "cell_type": "markdown",
   "id": "b7bbce82",
   "metadata": {},
   "source": [
    "### DATA TRANSFORMATION"
   ]
  },
  {
   "cell_type": "code",
   "execution_count": 265,
   "id": "cb06da20",
   "metadata": {},
   "outputs": [
    {
     "data": {
      "text/plain": [
       "Passengers class\n",
       "Third class     491\n",
       "First class     216\n",
       "Second class    184\n",
       "Name: count, dtype: int64"
      ]
     },
     "execution_count": 265,
     "metadata": {},
     "output_type": "execute_result"
    }
   ],
   "source": [
    "df['Passengers class'].value_counts()"
   ]
  },
  {
   "cell_type": "code",
   "execution_count": 266,
   "id": "f0080ca5",
   "metadata": {},
   "outputs": [
    {
     "data": {
      "text/plain": [
       "Gender\n",
       "Male      577\n",
       "Female    314\n",
       "Name: count, dtype: int64"
      ]
     },
     "execution_count": 266,
     "metadata": {},
     "output_type": "execute_result"
    }
   ],
   "source": [
    "df['Gender'].value_counts()"
   ]
  },
  {
   "cell_type": "code",
   "execution_count": 267,
   "id": "90ed9263",
   "metadata": {},
   "outputs": [],
   "source": [
    "from sklearn.preprocessing import LabelEncoder"
   ]
  },
  {
   "cell_type": "code",
   "execution_count": 268,
   "id": "9022e509",
   "metadata": {},
   "outputs": [],
   "source": [
    "le=LabelEncoder()"
   ]
  },
  {
   "cell_type": "code",
   "execution_count": 284,
   "id": "f0a71a9d",
   "metadata": {},
   "outputs": [
    {
     "data": {
      "text/html": [
       "<div>\n",
       "<style scoped>\n",
       "    .dataframe tbody tr th:only-of-type {\n",
       "        vertical-align: middle;\n",
       "    }\n",
       "\n",
       "    .dataframe tbody tr th {\n",
       "        vertical-align: top;\n",
       "    }\n",
       "\n",
       "    .dataframe thead th {\n",
       "        text-align: right;\n",
       "    }\n",
       "</style>\n",
       "<table border=\"1\" class=\"dataframe\">\n",
       "  <thead>\n",
       "    <tr style=\"text-align: right;\">\n",
       "      <th></th>\n",
       "      <th>Survival status</th>\n",
       "      <th>Passengers class</th>\n",
       "      <th>Gender</th>\n",
       "      <th>Embarked</th>\n",
       "      <th>Age_category</th>\n",
       "    </tr>\n",
       "  </thead>\n",
       "  <tbody>\n",
       "    <tr>\n",
       "      <th>0</th>\n",
       "      <td>Dead</td>\n",
       "      <td>Third class</td>\n",
       "      <td>Male</td>\n",
       "      <td>Southampton</td>\n",
       "      <td>Youth</td>\n",
       "    </tr>\n",
       "    <tr>\n",
       "      <th>1</th>\n",
       "      <td>Survived</td>\n",
       "      <td>First class</td>\n",
       "      <td>Female</td>\n",
       "      <td>Cherbourg</td>\n",
       "      <td>Adult</td>\n",
       "    </tr>\n",
       "    <tr>\n",
       "      <th>2</th>\n",
       "      <td>Survived</td>\n",
       "      <td>Third class</td>\n",
       "      <td>Female</td>\n",
       "      <td>Southampton</td>\n",
       "      <td>Youth</td>\n",
       "    </tr>\n",
       "    <tr>\n",
       "      <th>3</th>\n",
       "      <td>Survived</td>\n",
       "      <td>First class</td>\n",
       "      <td>Female</td>\n",
       "      <td>Southampton</td>\n",
       "      <td>Adult</td>\n",
       "    </tr>\n",
       "    <tr>\n",
       "      <th>4</th>\n",
       "      <td>Dead</td>\n",
       "      <td>Third class</td>\n",
       "      <td>Male</td>\n",
       "      <td>Southampton</td>\n",
       "      <td>Adult</td>\n",
       "    </tr>\n",
       "  </tbody>\n",
       "</table>\n",
       "</div>"
      ],
      "text/plain": [
       "  Survival status Passengers class  Gender     Embarked Age_category\n",
       "0            Dead      Third class    Male  Southampton        Youth\n",
       "1        Survived      First class  Female    Cherbourg        Adult\n",
       "2        Survived      Third class  Female  Southampton        Youth\n",
       "3        Survived      First class  Female  Southampton        Adult\n",
       "4            Dead      Third class    Male  Southampton        Adult"
      ]
     },
     "execution_count": 284,
     "metadata": {},
     "output_type": "execute_result"
    }
   ],
   "source": [
    "cat_features.head()"
   ]
  },
  {
   "cell_type": "code",
   "execution_count": 287,
   "id": "67b28688",
   "metadata": {},
   "outputs": [],
   "source": [
    "for col in cat_features:\n",
    "    cat_features[col]=le.fit_transform(cat_features[col])"
   ]
  },
  {
   "cell_type": "code",
   "execution_count": 289,
   "id": "d5215011",
   "metadata": {},
   "outputs": [
    {
     "data": {
      "text/html": [
       "<div>\n",
       "<style scoped>\n",
       "    .dataframe tbody tr th:only-of-type {\n",
       "        vertical-align: middle;\n",
       "    }\n",
       "\n",
       "    .dataframe tbody tr th {\n",
       "        vertical-align: top;\n",
       "    }\n",
       "\n",
       "    .dataframe thead th {\n",
       "        text-align: right;\n",
       "    }\n",
       "</style>\n",
       "<table border=\"1\" class=\"dataframe\">\n",
       "  <thead>\n",
       "    <tr style=\"text-align: right;\">\n",
       "      <th></th>\n",
       "      <th>Survival status</th>\n",
       "      <th>Passengers class</th>\n",
       "      <th>Gender</th>\n",
       "      <th>Embarked</th>\n",
       "      <th>Age_category</th>\n",
       "    </tr>\n",
       "  </thead>\n",
       "  <tbody>\n",
       "    <tr>\n",
       "      <th>0</th>\n",
       "      <td>0</td>\n",
       "      <td>2</td>\n",
       "      <td>1</td>\n",
       "      <td>2</td>\n",
       "      <td>3</td>\n",
       "    </tr>\n",
       "    <tr>\n",
       "      <th>1</th>\n",
       "      <td>1</td>\n",
       "      <td>0</td>\n",
       "      <td>0</td>\n",
       "      <td>0</td>\n",
       "      <td>0</td>\n",
       "    </tr>\n",
       "    <tr>\n",
       "      <th>2</th>\n",
       "      <td>1</td>\n",
       "      <td>2</td>\n",
       "      <td>0</td>\n",
       "      <td>2</td>\n",
       "      <td>3</td>\n",
       "    </tr>\n",
       "    <tr>\n",
       "      <th>3</th>\n",
       "      <td>1</td>\n",
       "      <td>0</td>\n",
       "      <td>0</td>\n",
       "      <td>2</td>\n",
       "      <td>0</td>\n",
       "    </tr>\n",
       "    <tr>\n",
       "      <th>4</th>\n",
       "      <td>0</td>\n",
       "      <td>2</td>\n",
       "      <td>1</td>\n",
       "      <td>2</td>\n",
       "      <td>0</td>\n",
       "    </tr>\n",
       "  </tbody>\n",
       "</table>\n",
       "</div>"
      ],
      "text/plain": [
       "   Survival status  Passengers class  Gender  Embarked  Age_category\n",
       "0                0                 2       1         2             3\n",
       "1                1                 0       0         0             0\n",
       "2                1                 2       0         2             3\n",
       "3                1                 0       0         2             0\n",
       "4                0                 2       1         2             0"
      ]
     },
     "execution_count": 289,
     "metadata": {},
     "output_type": "execute_result"
    }
   ],
   "source": [
    "cat_features.head()"
   ]
  },
  {
   "cell_type": "markdown",
   "id": "a2a471ef",
   "metadata": {},
   "source": [
    "### FEATURE SELECTION"
   ]
  },
  {
   "cell_type": "code",
   "execution_count": 272,
   "id": "c215a735",
   "metadata": {},
   "outputs": [],
   "source": [
    "X=cat_features[['Passengers class','Gender','Age_category']]\n",
    "y=cat_features['Survival status']\n"
   ]
  },
  {
   "cell_type": "code",
   "execution_count": 273,
   "id": "151128b1",
   "metadata": {},
   "outputs": [
    {
     "data": {
      "text/html": [
       "<div>\n",
       "<style scoped>\n",
       "    .dataframe tbody tr th:only-of-type {\n",
       "        vertical-align: middle;\n",
       "    }\n",
       "\n",
       "    .dataframe tbody tr th {\n",
       "        vertical-align: top;\n",
       "    }\n",
       "\n",
       "    .dataframe thead th {\n",
       "        text-align: right;\n",
       "    }\n",
       "</style>\n",
       "<table border=\"1\" class=\"dataframe\">\n",
       "  <thead>\n",
       "    <tr style=\"text-align: right;\">\n",
       "      <th></th>\n",
       "      <th>Passengers class</th>\n",
       "      <th>Gender</th>\n",
       "      <th>Age_category</th>\n",
       "    </tr>\n",
       "  </thead>\n",
       "  <tbody>\n",
       "    <tr>\n",
       "      <th>0</th>\n",
       "      <td>2</td>\n",
       "      <td>1</td>\n",
       "      <td>3</td>\n",
       "    </tr>\n",
       "    <tr>\n",
       "      <th>1</th>\n",
       "      <td>0</td>\n",
       "      <td>0</td>\n",
       "      <td>0</td>\n",
       "    </tr>\n",
       "    <tr>\n",
       "      <th>2</th>\n",
       "      <td>2</td>\n",
       "      <td>0</td>\n",
       "      <td>3</td>\n",
       "    </tr>\n",
       "    <tr>\n",
       "      <th>3</th>\n",
       "      <td>0</td>\n",
       "      <td>0</td>\n",
       "      <td>0</td>\n",
       "    </tr>\n",
       "    <tr>\n",
       "      <th>4</th>\n",
       "      <td>2</td>\n",
       "      <td>1</td>\n",
       "      <td>0</td>\n",
       "    </tr>\n",
       "  </tbody>\n",
       "</table>\n",
       "</div>"
      ],
      "text/plain": [
       "   Passengers class  Gender  Age_category\n",
       "0                 2       1             3\n",
       "1                 0       0             0\n",
       "2                 2       0             3\n",
       "3                 0       0             0\n",
       "4                 2       1             0"
      ]
     },
     "execution_count": 273,
     "metadata": {},
     "output_type": "execute_result"
    }
   ],
   "source": [
    "X.head()"
   ]
  },
  {
   "cell_type": "markdown",
   "id": "eb2d0139",
   "metadata": {},
   "source": [
    "## MODEL BUILDING"
   ]
  },
  {
   "cell_type": "code",
   "execution_count": 291,
   "id": "d7daa8be",
   "metadata": {},
   "outputs": [
    {
     "data": {
      "text/plain": [
       "array([[2, 1, 3],\n",
       "       [0, 0, 0],\n",
       "       [2, 0, 3],\n",
       "       ...,\n",
       "       [2, 0, 3],\n",
       "       [0, 1, 3],\n",
       "       [2, 1, 0]])"
      ]
     },
     "execution_count": 291,
     "metadata": {},
     "output_type": "execute_result"
    }
   ],
   "source": [
    "from sklearn.feature_selection import SelectKBest,chi2\n",
    "X_new=SelectKBest(k=3).fit_transform(X,y)\n",
    "\n",
    "X_new"
   ]
  },
  {
   "cell_type": "code",
   "execution_count": 275,
   "id": "8ecccf37",
   "metadata": {},
   "outputs": [],
   "source": [
    "from sklearn.linear_model import LogisticRegression\n",
    "\n",
    "from sklearn.model_selection import train_test_split\n",
    "X_train, X_test, y_train, y_test = train_test_split(X,y, test_size=0.3,random_state=10)\n"
   ]
  },
  {
   "cell_type": "code",
   "execution_count": 276,
   "id": "3e6ec0cd",
   "metadata": {},
   "outputs": [
    {
     "name": "stdout",
     "output_type": "stream",
     "text": [
      "LogisticRegression()\n"
     ]
    }
   ],
   "source": [
    "model=LogisticRegression().fit(X,y)\n",
    "\n",
    "print (model)"
   ]
  },
  {
   "cell_type": "code",
   "execution_count": 277,
   "id": "d1052318",
   "metadata": {},
   "outputs": [],
   "source": [
    "predictions=model.predict(X_test)"
   ]
  },
  {
   "cell_type": "markdown",
   "id": "bc32ebd0",
   "metadata": {},
   "source": [
    "## MODEL EVALUATION"
   ]
  },
  {
   "cell_type": "code",
   "execution_count": 278,
   "id": "9219a091",
   "metadata": {},
   "outputs": [
    {
     "name": "stdout",
     "output_type": "stream",
     "text": [
      "Accuracy:  0.8059701492537313\n"
     ]
    }
   ],
   "source": [
    "from sklearn.metrics import accuracy_score\n",
    "\n",
    "print('Accuracy: ',accuracy_score(y_test,predictions))"
   ]
  },
  {
   "cell_type": "code",
   "execution_count": 279,
   "id": "c1eb9b8d",
   "metadata": {},
   "outputs": [
    {
     "name": "stdout",
     "output_type": "stream",
     "text": [
      "Accuracy:  0.7784911717495987\n"
     ]
    }
   ],
   "source": [
    "print('Accuracy: ',accuracy_score(y_train,model.predict(X_train)))"
   ]
  },
  {
   "cell_type": "code",
   "execution_count": 280,
   "id": "88973d3c",
   "metadata": {},
   "outputs": [
    {
     "name": "stdout",
     "output_type": "stream",
     "text": [
      "              precision    recall  f1-score   support\n",
      "\n",
      "           0       0.84      0.87      0.85       174\n",
      "           1       0.74      0.69      0.71        94\n",
      "\n",
      "    accuracy                           0.81       268\n",
      "   macro avg       0.79      0.78      0.78       268\n",
      "weighted avg       0.80      0.81      0.80       268\n",
      "\n"
     ]
    }
   ],
   "source": [
    "from sklearn.metrics import classification_report\n",
    "\n",
    "print(classification_report(y_test,predictions))"
   ]
  },
  {
   "cell_type": "code",
   "execution_count": 281,
   "id": "fd1674bf",
   "metadata": {},
   "outputs": [
    {
     "name": "stdout",
     "output_type": "stream",
     "text": [
      "[[151  23]\n",
      " [ 29  65]]\n"
     ]
    }
   ],
   "source": [
    "from sklearn.metrics import confusion_matrix\n",
    "\n",
    "cm=(confusion_matrix(y_test,predictions))\n",
    "\n",
    "print (cm)"
   ]
  },
  {
   "cell_type": "code",
   "execution_count": 282,
   "id": "575b96ef",
   "metadata": {},
   "outputs": [
    {
     "data": {
      "text/plain": [
       "<Axes: >"
      ]
     },
     "execution_count": 282,
     "metadata": {},
     "output_type": "execute_result"
    },
    {
     "data": {
      "image/png": "[encoded data removed]",
      "text/plain": [
       "<Figure size 640x480 with 2 Axes>"
      ]
     },
     "metadata": {},
     "output_type": "display_data"
    }
   ],
   "source": [
    "sb.heatmap(cm, annot=True, fmt= '.0f')"
   ]
  }
 ],
 "metadata": {
  "kernelspec": {
   "display_name": "Python 3 (ipykernel)",
   "language": "python",
   "name": "python3"
  },
  "language_info": {
   "codemirror_mode": {
    "name": "ipython",
    "version": 3
   },
   "file_extension": ".py",
   "mimetype": "text/x-python",
   "name": "python",
   "nbconvert_exporter": "python",
   "pygments_lexer": "ipython3",
   "version": "3.11.5"
  }
 },
 "nbformat": 4,
 "nbformat_minor": 5
}
